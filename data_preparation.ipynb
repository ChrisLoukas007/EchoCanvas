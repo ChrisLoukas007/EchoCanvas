{
 "cells": [
  {
   "cell_type": "markdown",
   "id": "24132786",
   "metadata": {},
   "source": [
    "# 📘 data_preparation.ipynb (Step-by-Step Cells for Dataset Engineering)"
   ]
  },
  {
   "cell_type": "markdown",
   "id": "f08c0b2e",
   "metadata": {},
   "source": [
    "### Step 1: Load the CSV and initialize new columns\n"
   ]
  },
  {
   "cell_type": "code",
   "execution_count": 4,
   "id": "932a94b9",
   "metadata": {},
   "outputs": [
    {
     "name": "stderr",
     "output_type": "stream",
     "text": [
      "/var/folders/bc/8_g2sm9x4917kl9d15xv74cc0000gn/T/ipykernel_1348/3387213093.py:7: DtypeWarning: Columns (3,5,6,7,10,12,13,15,17,19,20,21) have mixed types. Specify dtype option on import or set low_memory=False.\n",
      "  df = pd.read_csv(file_path)\n"
     ]
    },
    {
     "name": "stdout",
     "output_type": "stream",
     "text": [
      "First sample with the most columns having values:\n",
      "author_name                                                Pablo Picasso\n",
      "painting_name                    Blind Minotaur Is Guided By Girl 1934 2\n",
      "image_url              https://uploads5.wikiart.org/images/pablo-pica...\n",
      "Genre                                              mythological painting\n",
      "Style                                                         Surrealism\n",
      "Nationality                                                      Spanish\n",
      "PaintingSchool                                            École de Paris\n",
      "ArtMovement                                                       Cubism\n",
      "Field                                         painting,sculpture,drawing\n",
      "Date                                                                1934\n",
      "Influencedby           Marc Chagall,Henri Rousseau,El Greco,Francisco...\n",
      "Media                                                      etching,paper\n",
      "Influencedon           Marc Chagall,Amedeo Modigliani,Willem de Kooni...\n",
      "FamilyandRelatives                                                   NaN\n",
      "Tag                                   Greek-and-Roman-Mythology,Minotaur\n",
      "Pupils                                                               NaN\n",
      "Location               National Gallery of Australia (NGA), Canberra,...\n",
      "OriginalTitle                   Minotaure aveugle guide par une fillette\n",
      "Dimensions                                                  34 x 44.6 cm\n",
      "Series                                                     Vollard Suite\n",
      "Teachers                                                             NaN\n",
      "FriendsandCoworkers    Georges Braque,Constantin Brancusi,Man Ray,Max...\n",
      "Artinstitution         Real Academia de Bellas Artes de San Fernando,...\n",
      "Period                                 Neoclassicist & Surrealist Period\n",
      "Theme                                                           Minotaur\n",
      "Path                   Artists2/Pablo Picasso/Blind Minotaur Is Guide...\n",
      "Name: 755547, dtype: object\n"
     ]
    }
   ],
   "source": [
    "import pandas as pd\n",
    "\n",
    "# Filepath to the CSV file\n",
    "file_path = \"/Users/chrisloukasntais/VsCode/EchoCanvas/full_dataset.csv\"\n",
    "\n",
    "# Load the CSV file\n",
    "df = pd.read_csv(file_path)\n",
    "\n",
    "# Count the number of non-null values in each row\n",
    "df[\"non_null_count\"] = df.notnull().sum(axis=1)\n",
    "\n",
    "# Find the row with the maximum number of non-null values\n",
    "row_with_most_values = df.loc[df[\"non_null_count\"].idxmax()]\n",
    "\n",
    "# Drop the helper column before displaying\n",
    "row_with_most_values = row_with_most_values.drop(\"non_null_count\")\n",
    "\n",
    "# Display the row\n",
    "print(\"First sample with the most columns having values:\")\n",
    "print(row_with_most_values)"
   ]
  },
  {
   "cell_type": "markdown",
   "id": "cfcba667",
   "metadata": {},
   "source": [
    "# Create the initial dataset\n",
    "This cell modifies the initial dataset in order to create the first dataset."
   ]
  },
  {
   "cell_type": "code",
   "execution_count": 10,
   "id": "b3cf60ff",
   "metadata": {},
   "outputs": [
    {
     "name": "stdout",
     "output_type": "stream",
     "text": [
      "Filtered dataset saved to: /Users/chrisloukasntais/VsCode/EchoCanvas/data/dataset.csv\n"
     ]
    }
   ],
   "source": [
    "import pandas as pd\n",
    "\n",
    "# Filepath to the CSV file\n",
    "file_path = \"/Users/chrisloukasntais/VsCode/EchoCanvas/data/full_dataset.csv\"\n",
    "\n",
    "# Load the CSV file\n",
    "df = pd.read_csv(file_path, low_memory=False)\n",
    "\n",
    "# Define required and desired output columns\n",
    "required_columns = [\"author_name\", \"painting_name\", \"Style\",\"Date\",\"image_url\"]\n",
    "output_columns = [\"author_name\", \"painting_name\", \"Style\", \"Genre\", \"Theme\", \"Date\", \"Period\", \"image_url\"]\n",
    "\n",
    "# Drop rows with missing values in required columns\n",
    "df_filtered = df.dropna(subset=required_columns)\n",
    "\n",
    "# Count paintings per author\n",
    "painter_counts = df_filtered[\"author_name\"].value_counts()\n",
    "\n",
    "# Filter painters with 4 to 10 paintings\n",
    "eligible_painters = painter_counts[(painter_counts >= 4) & (painter_counts <= 6)].index\n",
    "\n",
    "# Select rows for eligible painters\n",
    "eligible_df = df_filtered[df_filtered[\"author_name\"].isin(eligible_painters)]\n",
    "\n",
    "# Take up to 10 paintings per painter\n",
    "final_df = eligible_df.groupby(\"author_name\").head(10).loc[:, output_columns]\n",
    "\n",
    "# Save the result\n",
    "output_file_path = \"/Users/chrisloukasntais/VsCode/EchoCanvas/data/dataset.csv\"\n",
    "final_df.to_csv(output_file_path, index=False)\n",
    "\n",
    "print(f\"Filtered dataset saved to: {output_file_path}\")\n"
   ]
  },
  {
   "cell_type": "markdown",
   "id": "4913736a",
   "metadata": {},
   "source": [
    "### Convert csv file to json form "
   ]
  },
  {
   "cell_type": "code",
   "execution_count": 11,
   "id": "014944fa",
   "metadata": {},
   "outputs": [
    {
     "name": "stdout",
     "output_type": "stream",
     "text": [
      "CSV data saved as JSON in '/Users/chrisloukasntais/VsCode/EchoCanvas/data/dataset.json'\n"
     ]
    }
   ],
   "source": [
    "import pandas as pd\n",
    "\n",
    "# Load the CSV file (replace with your actual file path)\n",
    "csv_file = \"/Users/chrisloukasntais/VsCode/EchoCanvas/data/dataset.csv\"\n",
    "df = pd.read_csv(csv_file)\n",
    "\n",
    "# Save as JSON \n",
    "json_file = \"/Users/chrisloukasntais/VsCode/EchoCanvas/data/dataset.json\"\n",
    "df.to_json(json_file, orient=\"records\", indent=4)\n",
    "\n",
    "print(f\"CSV data saved as JSON in '{json_file}'\")\n"
   ]
  },
  {
   "cell_type": "code",
   "execution_count": 12,
   "id": "3127b356",
   "metadata": {},
   "outputs": [
    {
     "name": "stdout",
     "output_type": "stream",
     "text": [
      "JSON is valid!\n"
     ]
    }
   ],
   "source": [
    "import json\n",
    "\n",
    "try:\n",
    "    with open('/Users/chrisloukasntais/VsCode/EchoCanvas/data/dataset.json', 'r') as file:\n",
    "        data = json.load(file)\n",
    "    print(\"JSON is valid!\")\n",
    "except json.JSONDecodeError as e:\n",
    "    print(f\"JSON is invalid: {e}\")"
   ]
  }
 ],
 "metadata": {
  "kernelspec": {
   "display_name": "Python 3",
   "language": "python",
   "name": "python3"
  },
  "language_info": {
   "codemirror_mode": {
    "name": "ipython",
    "version": 3
   },
   "file_extension": ".py",
   "mimetype": "text/x-python",
   "name": "python",
   "nbconvert_exporter": "python",
   "pygments_lexer": "ipython3",
   "version": "3.9.6"
  }
 },
 "nbformat": 4,
 "nbformat_minor": 5
}
