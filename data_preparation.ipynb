{
 "cells": [
  {
   "cell_type": "markdown",
   "id": "24132786",
   "metadata": {},
   "source": [
    "# 📘 data_preparation.ipynb (Step-by-Step Cells for Dataset Engineering)"
   ]
  },
  {
   "cell_type": "markdown",
   "id": "f08c0b2e",
   "metadata": {},
   "source": [
    "### Step 1: Load the CSV and initialize new columns\n"
   ]
  },
  {
   "cell_type": "code",
   "execution_count": null,
   "id": "0df721ef",
   "metadata": {},
   "outputs": [],
   "source": [
    "import pandas as pd\n",
    "\n",
    "# Load the CSV\n",
    "file_path = \"/Users/chrisloukasntais/VsCode/EchoCanvas/human_easy.csv\"\n",
    "df = pd.read_csv(file_path)\n",
    "\n",
    "# Initialize empty columns for future use\n",
    "df['emotion'] = ''\n",
    "df['style'] = ''\n",
    "df['monologue'] = ''\n",
    "\n",
    "# Save intermediate version\n",
    "df.to_csv('/Users/chrisloukasntais/VsCode/EchoCanvas/human_easy.csv', index=False)\n",
    "df.head()"
   ]
  }
 ],
 "metadata": {
  "kernelspec": {
   "display_name": "Python 3",
   "language": "python",
   "name": "python3"
  },
  "language_info": {
   "codemirror_mode": {
    "name": "ipython",
    "version": 3
   },
   "file_extension": ".py",
   "mimetype": "text/x-python",
   "name": "python",
   "nbconvert_exporter": "python",
   "pygments_lexer": "ipython3",
   "version": "3.9.6"
  }
 },
 "nbformat": 4,
 "nbformat_minor": 5
}
